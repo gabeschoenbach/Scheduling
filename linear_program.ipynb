{
 "cells": [
  {
   "cell_type": "code",
   "execution_count": 105,
   "metadata": {},
   "outputs": [],
   "source": [
    "from mip import Model, xsum, maximize, BINARY\n",
    "from gurobipy import *\n",
    "import numpy as np"
   ]
  },
  {
   "cell_type": "code",
   "execution_count": 123,
   "metadata": {},
   "outputs": [
    {
     "ename": "TypeError",
     "evalue": "unsupported operand type(s) for -: 'bool' and 'NoneType'",
     "output_type": "error",
     "traceback": [
      "\u001b[0;31m---------------------------------------------------------------------------\u001b[0m",
      "\u001b[0;31mTypeError\u001b[0m                                 Traceback (most recent call last)",
      "\u001b[0;32m<ipython-input-123-56550f3fa66f>\u001b[0m in \u001b[0;36m<module>\u001b[0;34m\u001b[0m\n\u001b[1;32m     49\u001b[0m \u001b[0;34m\u001b[0m\u001b[0m\n\u001b[1;32m     50\u001b[0m \u001b[0;31m# c1 = m.addConstr(Aeq.dot(x0) == beq)\u001b[0m\u001b[0;34m\u001b[0m\u001b[0;34m\u001b[0m\u001b[0;34m\u001b[0m\u001b[0m\n\u001b[0;32m---> 51\u001b[0;31m \u001b[0mc2\u001b[0m \u001b[0;34m=\u001b[0m \u001b[0mm\u001b[0m\u001b[0;34m.\u001b[0m\u001b[0maddConstr\u001b[0m\u001b[0;34m(\u001b[0m\u001b[0mA\u001b[0m\u001b[0;34m.\u001b[0m\u001b[0mdot\u001b[0m\u001b[0;34m(\u001b[0m\u001b[0mx0\u001b[0m\u001b[0;34m)\u001b[0m \u001b[0;34m<=\u001b[0m \u001b[0mb\u001b[0m\u001b[0;34m)\u001b[0m\u001b[0;34m\u001b[0m\u001b[0;34m\u001b[0m\u001b[0m\n\u001b[0m\u001b[1;32m     52\u001b[0m \u001b[0;34m\u001b[0m\u001b[0m\n\u001b[1;32m     53\u001b[0m \u001b[0mm\u001b[0m\u001b[0;34m.\u001b[0m\u001b[0moptimize\u001b[0m\u001b[0;34m(\u001b[0m\u001b[0;34m)\u001b[0m\u001b[0;34m\u001b[0m\u001b[0;34m\u001b[0m\u001b[0m\n",
      "\u001b[0;32mmodel.pxi\u001b[0m in \u001b[0;36mgurobipy.Model.addConstr\u001b[0;34m()\u001b[0m\n",
      "\u001b[0;31mTypeError\u001b[0m: unsupported operand type(s) for -: 'bool' and 'NoneType'"
     ]
    }
   ],
   "source": [
    "tests_per_week = 2\n",
    "number_of_people = 20\n",
    "f = np.zeros((7*number_of_people, 1))\n",
    "\n",
    "# availability_matrix = # random availabilities\n",
    "availability_matrix = np.ones((number_of_people, 7*number_of_people)) # pretend everyone is available\n",
    "\n",
    "# Situation where each person is fully available\n",
    "for i in range(len(availability_matrix)):\n",
    "    if i > 0:\n",
    "        for j in range(i*7):\n",
    "            availability_matrix[i][j] = 0\n",
    "    if i < len(availability_matrix):\n",
    "        for j in range((i+1)*7, 7*number_of_people):\n",
    "            availability_matrix[i][j] = 0\n",
    "            \n",
    "# Dealing with infeasibles... (not done yet)\n",
    "# people_total_availability = np.sum(availability_matrix)\n",
    "\n",
    "# Enforce that everyone gets two tests a week\n",
    "Aeq = availability_matrix\n",
    "beq = np.multiply(tests_per_week, np.ones((number_of_people,1)))\n",
    "\n",
    "# This picks up the number of total tests (per?) person each day of the week\n",
    "testing_capacity_matrix = np.zeros((7, 7*number_of_people))\n",
    "for i in range(len(testing_capacity_matrix)):\n",
    "    for j in range(i, 7*number_of_people, 7):\n",
    "        testing_capacity_matrix[i][j] = 1\n",
    "        \n",
    "A = testing_capacity_matrix\n",
    "# need a sanity check on value of b...should it be 6 for 20 people and 2 tests/wk?\n",
    "b = np.ceil(np.multiply(number_of_people*tests_per_week/7, np.ones((7,1))))\n",
    "\n",
    "# x is all zeros except for the 1 schedule choice per-person\n",
    "\n",
    "# Ax <= b\n",
    "# Aeq x = beq\n",
    "# lb < x < ub\n",
    "# x integers\n",
    "\n",
    "x0 = np.ones((7*number_of_people, 1))\n",
    "intcon = range(len(x0))\n",
    "lb = np.zeros(len(x0))\n",
    "ub = np.ones(len(x0))\n",
    "\n",
    "# Gurobi optimization, still a little confused here.\n",
    "m = Model()\n",
    "m.setObjective(np.sum(x0), GRB.MAXIMIZE)\n",
    "\n",
    "# c1 = m.addConstr(Aeq.dot(x0) == beq)\n",
    "c2 = m.addConstr(A.dot(x0) <= b)\n",
    "\n",
    "m.optimize()"
   ]
  },
  {
   "cell_type": "code",
   "execution_count": 129,
   "metadata": {},
   "outputs": [
    {
     "data": {
      "text/plain": [
       "array([[False],\n",
       "       [False],\n",
       "       [False],\n",
       "       [False],\n",
       "       [False],\n",
       "       [False],\n",
       "       [False],\n",
       "       [False],\n",
       "       [False],\n",
       "       [False],\n",
       "       [False],\n",
       "       [False],\n",
       "       [False],\n",
       "       [False],\n",
       "       [False],\n",
       "       [False],\n",
       "       [False],\n",
       "       [False],\n",
       "       [False],\n",
       "       [False]])"
      ]
     },
     "execution_count": 129,
     "metadata": {},
     "output_type": "execute_result"
    }
   ],
   "source": [
    "Aeq.dot(x0) == beq"
   ]
  },
  {
   "cell_type": "code",
   "execution_count": 126,
   "metadata": {},
   "outputs": [
    {
     "data": {
      "text/plain": [
       "numpy.ndarray"
      ]
     },
     "execution_count": 126,
     "metadata": {},
     "output_type": "execute_result"
    }
   ],
   "source": [
    "type(beq)"
   ]
  },
  {
   "cell_type": "code",
   "execution_count": 124,
   "metadata": {},
   "outputs": [
    {
     "data": {
      "text/plain": [
       "array([[20.],\n",
       "       [20.],\n",
       "       [20.],\n",
       "       [20.],\n",
       "       [20.],\n",
       "       [20.],\n",
       "       [20.]])"
      ]
     },
     "execution_count": 124,
     "metadata": {},
     "output_type": "execute_result"
    }
   ],
   "source": [
    "A.dot(x0)"
   ]
  },
  {
   "cell_type": "code",
   "execution_count": 118,
   "metadata": {
    "scrolled": true
   },
   "outputs": [
    {
     "data": {
      "text/plain": [
       "(20, 1)"
      ]
     },
     "execution_count": 118,
     "metadata": {},
     "output_type": "execute_result"
    }
   ],
   "source": [
    "beq.shape"
   ]
  },
  {
   "cell_type": "code",
   "execution_count": 116,
   "metadata": {},
   "outputs": [
    {
     "data": {
      "text/plain": [
       "(20, 1)"
      ]
     },
     "execution_count": 116,
     "metadata": {},
     "output_type": "execute_result"
    }
   ],
   "source": [
    "Aeq.dot(x0).shape"
   ]
  },
  {
   "cell_type": "code",
   "execution_count": null,
   "metadata": {},
   "outputs": [],
   "source": []
  }
 ],
 "metadata": {
  "kernelspec": {
   "display_name": "Python 3",
   "language": "python",
   "name": "python3"
  },
  "language_info": {
   "codemirror_mode": {
    "name": "ipython",
    "version": 3
   },
   "file_extension": ".py",
   "mimetype": "text/x-python",
   "name": "python",
   "nbconvert_exporter": "python",
   "pygments_lexer": "ipython3",
   "version": "3.8.3"
  }
 },
 "nbformat": 4,
 "nbformat_minor": 4
}
