{
 "cells": [
  {
   "cell_type": "code",
   "execution_count": 279,
   "metadata": {
    "scrolled": false
   },
   "outputs": [
    {
     "name": "stdout",
     "output_type": "stream",
     "text": [
      "Gurobi Optimizer version 9.0.2 build v9.0.2rc0 (mac64)\n",
      "Optimize a model with 27 rows, 140 columns and 280 nonzeros\n",
      "Model fingerprint: 0x2c4f9054\n",
      "Variable types: 0 continuous, 140 integer (140 binary)\n",
      "Coefficient statistics:\n",
      "  Matrix range     [1e+00, 1e+00]\n",
      "  Objective range  [1e+00, 1e+00]\n",
      "  Bounds range     [1e+00, 1e+00]\n",
      "  RHS range        [1e+00, 6e+00]\n",
      "Found heuristic solution: objective 36.0000000\n",
      "Presolve time: 0.00s\n",
      "Presolved: 27 rows, 140 columns, 280 nonzeros\n",
      "Variable types: 0 continuous, 140 integer (140 binary)\n",
      "\n",
      "Explored 0 nodes (0 simplex iterations) in 0.05 seconds\n",
      "Thread count was 4 (of 4 available processors)\n",
      "\n",
      "Solution count 1: 36 \n",
      "\n",
      "Optimal solution found (tolerance 1.00e-04)\n",
      "Best objective 3.600000000000e+01, best bound 3.600000000000e+01, gap 0.0000%\n",
      "\n",
      "Person 00: available days = 3 --> 2 tests\n",
      "Person 01: available days = 1 --> 1 tests\n",
      "Person 02: available days = 2 --> 2 tests\n",
      "Person 03: available days = 3 --> 2 tests\n",
      "Person 04: available days = 5 --> 2 tests\n",
      "Person 05: available days = 5 --> 2 tests\n",
      "Person 06: available days = 6 --> 2 tests\n",
      "Person 07: available days = 4 --> 2 tests\n",
      "Person 08: available days = 1 --> 1 tests\n",
      "Person 09: available days = 2 --> 2 tests\n",
      "Person 10: available days = 4 --> 2 tests\n",
      "Person 11: available days = 3 --> 2 tests\n",
      "Person 12: available days = 4 --> 2 tests\n",
      "Person 13: available days = 4 --> 2 tests\n",
      "Person 14: available days = 3 --> 2 tests\n",
      "Person 15: available days = 5 --> 2 tests\n",
      "Person 16: available days = 1 --> 1 tests\n",
      "Person 17: available days = 4 --> 2 tests\n",
      "Person 18: available days = 1 --> 1 tests\n",
      "Person 19: available days = 4 --> 2 tests\n",
      "\n",
      "On day 0, 6 tests\n",
      "On day 1, 3 tests\n",
      "On day 2, 6 tests\n",
      "On day 3, 4 tests\n",
      "On day 4, 6 tests\n",
      "On day 5, 5 tests\n",
      "On day 6, 6 tests\n"
     ]
    }
   ],
   "source": [
    "from gurobipy import *\n",
    "import numpy as np\n",
    "import matplotlib.pyplot as plt\n",
    "from matplotlib import colors\n",
    "\n",
    "tests_per_week = 2\n",
    "number_of_people = 20\n",
    "\n",
    "availability_matrix = np.random.randint(0,2, size=(number_of_people, 7*number_of_people)) # random availabilities\n",
    "# availability_matrix = np.ones((number_of_people, 7*number_of_people)) # pretend everyone is available, always\n",
    "\n",
    "# Zero out irrelevant parts of the matrix\n",
    "for i in range(len(availability_matrix)):\n",
    "    if i > 0:\n",
    "        for j in range(i*7):\n",
    "            availability_matrix[i][j] = 0\n",
    "    if i < len(availability_matrix):\n",
    "        for j in range((i+1)*7, 7*number_of_people):\n",
    "            availability_matrix[i][j] = 0\n",
    "            \n",
    "# Dealing with infeasibles...\n",
    "people_total_availability = np.sum(availability_matrix, 1)\n",
    "infeasible_people = np.where(people_total_availability < tests_per_week)\n",
    "\n",
    "# Enforce that everyone gets two tests a week\n",
    "Aeq = availability_matrix\n",
    "beq = np.multiply(tests_per_week, np.ones((number_of_people,1)))\n",
    "\n",
    "# Loosen beq in the case where people aren't available enough\n",
    "for i in range(len(infeasible_people[0])):\n",
    "    beq[infeasible_people[0][i]][0] = people_total_availability[infeasible_people[0][i]]\n",
    "\n",
    "# This picks up the number of total tests (per?) person each day of the week\n",
    "testing_capacity_matrix = np.zeros((7, 7*number_of_people))\n",
    "for i in range(len(testing_capacity_matrix)):\n",
    "    for j in range(i, 7*number_of_people, 7):\n",
    "        testing_capacity_matrix[i][j] = 1\n",
    "        \n",
    "A = testing_capacity_matrix\n",
    "b = np.ceil(np.multiply(number_of_people*tests_per_week/7, np.ones((7,1)))) # why is this ceil? why o\n",
    "\n",
    "# x is all zeros except for the 1 schedule choice per-person ??\n",
    "\n",
    "# Gurobi optimization, still a little confused here.\n",
    "m = Model()\n",
    "\n",
    "# Variables\n",
    "x0 = m.addVars(7*number_of_people, name='x0', vtype=GRB.BINARY) # x \\in [0,1]\n",
    "\n",
    "m.setObjective(x0.sum(), GRB.MAXIMIZE) # is maximize right? we want people to take as many tests as poss.\n",
    "\n",
    "# Ax <= b\n",
    "for i in range(7):\n",
    "    m.addConstr(sum(x0[j]*A[i][j] for j in range(7*number_of_people)) <= b[i][0])\n",
    "\n",
    "# Aeq x = beq\n",
    "for i in range(number_of_people):\n",
    "    m.addConstr(sum((x0[j]) for j in range(7*i, 7*(i+1))) == beq[i][0])\n",
    "\n",
    "m.optimize()\n",
    "\n",
    "print()\n",
    "for i in range(number_of_people):\n",
    "    idx = 7*i\n",
    "    num_tests = 0\n",
    "    days_avail = 0\n",
    "    for j in range(7):\n",
    "        num_tests += x0[idx].x\n",
    "        days_avail += Aeq[i][idx]\n",
    "        idx += 1\n",
    "    if (days_avail < num_tests):\n",
    "        print(\"!!! Person %02d: available days = %d --> %d tests !!!\" % (i, days_avail, num_tests))\n",
    "    else:\n",
    "        print(\"Person %02d: available days = %d --> %d tests\" % (i, days_avail, num_tests))\n",
    "\n",
    "print()\n",
    "for i in range(7):\n",
    "    tests = 0\n",
    "    for j in range(i, 7*number_of_people, 7):\n",
    "        tests += x0[j].x\n",
    "    print(\"On day %d, %d tests\" % (i, tests))"
   ]
  },
  {
   "cell_type": "code",
   "execution_count": 280,
   "metadata": {},
   "outputs": [
    {
     "data": {
      "image/png": "[encoded data removed]",
      "text/plain": [
       "<Figure size 1152x432 with 1 Axes>"
      ]
     },
     "metadata": {
      "needs_background": "light"
     },
     "output_type": "display_data"
    }
   ],
   "source": [
    "# Display Aeq\n",
    "fig, ax = plt.subplots(figsize=(16,6))\n",
    "cmap = colors.ListedColormap(['gray', 'yellow'])\n",
    "\n",
    "ax.imshow(Aeq, cmap=cmap, aspect='auto', extent=[0, 7*number_of_people, number_of_people, 0])\n",
    "ax.grid(which='major', axis='both', linestyle='-', color='k', linewidth=1.2)\n",
    "\n",
    "ax.set_xticks(np.arange(0, 7*number_of_people, 7))\n",
    "ax.set_yticks(np.arange(0, number_of_people, 2))\n",
    "ax.set_ylabel(\"Person\", fontsize=16)\n",
    "ax.set_xlabel(\"Person-Days [yellow=available]\", fontsize=16)\n",
    "ax.set_title(\"Aeq (Availability Matrix)\", fontsize=20)\n",
    "\n",
    "plt.savefig(\"Aeq.png\")\n",
    "plt.show()\n",
    "plt.close()"
   ]
  },
  {
   "cell_type": "code",
   "execution_count": 281,
   "metadata": {},
   "outputs": [
    {
     "data": {
      "image/png": "[encoded data removed]",
      "text/plain": [
       "<Figure size 1152x432 with 1 Axes>"
      ]
     },
     "metadata": {
      "needs_background": "light"
     },
     "output_type": "display_data"
    }
   ],
   "source": [
    "# Display A\n",
    "fig, ax = plt.subplots(figsize=(16,6))\n",
    "cmap = colors.ListedColormap(['gray', 'yellow'])\n",
    "\n",
    "ax.imshow(A, cmap=cmap, aspect='auto', extent=[0, 7*number_of_people, 7, 0])\n",
    "ax.grid(which='major', axis='both', linestyle='-', color='k', linewidth=1.2)\n",
    "\n",
    "ax.set_xticks(np.arange(0, 7*number_of_people, 7))\n",
    "ax.set_yticks(np.arange(0, 7, 1))\n",
    "ax.set_ylabel(\"Y Axis\", fontsize=16)\n",
    "ax.set_xlabel(\"X Axis\", fontsize=16)\n",
    "ax.set_title(\"A \", fontsize=20)\n",
    "\n",
    "plt.savefig(\"A.png\")\n",
    "plt.show()\n",
    "plt.close()"
   ]
  },
  {
   "cell_type": "code",
   "execution_count": 282,
   "metadata": {},
   "outputs": [
    {
     "data": {
      "image/png": "[encoded data removed]",
      "text/plain": [
       "<Figure size 1152x432 with 1 Axes>"
      ]
     },
     "metadata": {
      "needs_background": "light"
     },
     "output_type": "display_data"
    }
   ],
   "source": [
    "# Display beq\n",
    "fig, ax = plt.subplots(figsize=(16,6))\n",
    "cmap = colors.ListedColormap(['gray', 'yellow'])\n",
    "\n",
    "# Turn beq numpy array to a flat list of beq values\n",
    "beq_list = [item for sublist in beq.tolist() for item in sublist]\n",
    "\n",
    "ax.bar(range(number_of_people), height=beq_list)\n",
    "ax.set_yticks(range(0, int(max(beq_list)) + 1, 1))\n",
    "ax.set_xticks(range(number_of_people))\n",
    "\n",
    "ax.set_ylabel(\"Number of required tests\", fontsize=16)\n",
    "ax.set_xlabel(\"Person\", fontsize=16)\n",
    "ax.set_title(\"beq (Testing requirement)\", fontsize=20)\n",
    "\n",
    "plt.savefig(\"beq.png\")\n",
    "plt.show()\n",
    "plt.close()"
   ]
  },
  {
   "cell_type": "code",
   "execution_count": 197,
   "metadata": {},
   "outputs": [
    {
     "data": {
      "text/plain": [
       "array([[2.],\n",
       "       [2.],\n",
       "       [2.],\n",
       "       [2.],\n",
       "       [2.],\n",
       "       [2.],\n",
       "       [1.],\n",
       "       [2.],\n",
       "       [2.],\n",
       "       [2.],\n",
       "       [2.],\n",
       "       [2.],\n",
       "       [2.],\n",
       "       [2.],\n",
       "       [2.],\n",
       "       [2.],\n",
       "       [2.],\n",
       "       [2.],\n",
       "       [2.],\n",
       "       [2.]])"
      ]
     },
     "execution_count": 197,
     "metadata": {},
     "output_type": "execute_result"
    }
   ],
   "source": [
    "beq"
   ]
  },
  {
   "cell_type": "code",
   "execution_count": null,
   "metadata": {},
   "outputs": [],
   "source": []
  }
 ],
 "metadata": {
  "kernelspec": {
   "display_name": "Python 3",
   "language": "python",
   "name": "python3"
  },
  "language_info": {
   "codemirror_mode": {
    "name": "ipython",
    "version": 3
   },
   "file_extension": ".py",
   "mimetype": "text/x-python",
   "name": "python",
   "nbconvert_exporter": "python",
   "pygments_lexer": "ipython3",
   "version": "3.8.3"
  }
 },
 "nbformat": 4,
 "nbformat_minor": 4
}
